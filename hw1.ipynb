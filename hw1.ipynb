{
 "cells": [
  {
   "cell_type": "markdown",
   "metadata": {},
   "source": [
    "## HW1"
   ]
  },
  {
   "cell_type": "code",
   "execution_count": null,
   "metadata": {},
   "outputs": [],
   "source": [
    "d4 = {x: x ** 2+1 for x in range(44,90,5)}\n",
    "d4"
   ]
  },
  {
   "cell_type": "markdown",
   "metadata": {},
   "source": [
    "## HW2"
   ]
  },
  {
   "cell_type": "code",
   "execution_count": 12,
   "metadata": {},
   "outputs": [],
   "source": [
    "def func(d):\n",
    "    girls=0\n",
    "    boys=0\n",
    "    for i in d.keys():\n",
    "        girls+=d.get(i)[0]\n",
    "        boys+=d.get(i)[1]\n",
    "    print(girls, boys)"
   ]
  },
  {
   "cell_type": "code",
   "execution_count": 15,
   "metadata": {},
   "outputs": [
    {
     "name": "stdout",
     "output_type": "stream",
     "text": [
      "37 85\n"
     ]
    }
   ],
   "source": [
    "d = {'1a':(15,15),'1b':(10,18),'1c':(12,20),'1d':(0,32)}\n",
    "func(d)"
   ]
  },
  {
   "cell_type": "markdown",
   "metadata": {},
   "source": [
    "## HW2.5"
   ]
  },
  {
   "cell_type": "code",
   "execution_count": 164,
   "metadata": {},
   "outputs": [],
   "source": [
    "def func1(d):\n",
    "    count1=0\n",
    "    count2=0\n",
    "    count3=0\n",
    "    count4=0\n",
    "    count5=0\n",
    "    for i in d.keys():\n",
    "        count1+=d.get(i).get('1')\n",
    "        count2+=d.get(i).get('2')\n",
    "        count3+=d.get(i).get('3')\n",
    "        count4+=d.get(i).get('4')\n",
    "        count5+=d.get(i).get('5')\n",
    "        \n",
    "    print(count1,count2,count3,count4,count5)"
   ]
  },
  {
   "cell_type": "code",
   "execution_count": 166,
   "metadata": {},
   "outputs": [],
   "source": [
    "def func2(d):\n",
    "    d1={i: (d.get(i).get('1')+2*d.get(i).get('2')+3*d.get(i).get('3')+4*d.get(i).get('4')+5*d.get(i).get('5'))/\n",
    "        (d.get(i).get('1')+d.get(i).get('2')+d.get(i).get('3')+d.get(i).get('4')+d.get(i).get('5')) for i in d.keys()}\n",
    "    print(d1)"
   ]
  },
  {
   "cell_type": "code",
   "execution_count": 167,
   "metadata": {},
   "outputs": [
    {
     "name": "stdout",
     "output_type": "stream",
     "text": [
      "14 21 34 30 16\n",
      "{'1a': 2.857142857142857, '1b': 3.0, '1c': 3.4827586206896552, '1d': 3.111111111111111}\n"
     ]
    }
   ],
   "source": [
    "d = {'1a':{'1':5, '2':6, '3': 7, '4':8, '5': 2},\n",
    "     '1b':{'1':4, '2':7, '3': 9, '4':7, '5': 4},\n",
    "     '1c':{'1':2, '2':4, '3': 8, '4':8, '5': 7},\n",
    "     '1d':{'1':3, '2':4, '3': 10, '4':7, '5': 3}}\n",
    "func1(d)\n",
    "func2(d)"
   ]
  },
  {
   "cell_type": "markdown",
   "metadata": {},
   "source": [
    "## HW3"
   ]
  },
  {
   "cell_type": "code",
   "execution_count": 106,
   "metadata": {},
   "outputs": [],
   "source": [
    "def isInCondition(value):\n",
    "    count=0\n",
    "    while(value>0):\n",
    "        if value%2==1: count+=1\n",
    "        value//=2\n",
    "    if count%2==1: return True\n",
    "    else: return False"
   ]
  },
  {
   "cell_type": "code",
   "execution_count": 126,
   "metadata": {},
   "outputs": [
    {
     "name": "stdout",
     "output_type": "stream",
     "text": [
      "12\n"
     ]
    },
    {
     "data": {
      "text/plain": [
       "12"
      ]
     },
     "execution_count": 126,
     "metadata": {},
     "output_type": "execute_result"
    }
   ],
   "source": [
    "from random import randint\n",
    "n=randint(40,61)\n",
    "count1=0\n",
    "count2=0\n",
    "for i in range(n):\n",
    "    l.append(randint(-100,102))\n",
    "    value=l[i]\n",
    "    if value % 4==3: count1+=1\n",
    "    if isInCondition(value): count2+=1\n",
    "    \n",
    "print(count1)\n",
    "count2\n"
   ]
  },
  {
   "cell_type": "markdown",
   "metadata": {},
   "source": [
    "## HW4"
   ]
  },
  {
   "cell_type": "code",
   "execution_count": 50,
   "metadata": {},
   "outputs": [
    {
     "name": "stdout",
     "output_type": "stream",
     "text": [
      "NO\n",
      "NO\n",
      "NO\n",
      "YES\n",
      "NO\n",
      "NO\n",
      "YES\n",
      "NO\n",
      "YES\n",
      "NO\n",
      "NO\n",
      "NO\n"
     ]
    }
   ],
   "source": [
    "from random import randint\n",
    "n=randint(10,21)\n",
    "for i in range(n):\n",
    "    l.append(randint(0,21))\n",
    "for i in range(n) :\n",
    "    print(\"YES\" if l[:i].count(l[i]) >0 else \"NO\")"
   ]
  },
  {
   "cell_type": "code",
   "execution_count": 51,
   "metadata": {},
   "outputs": [
    {
     "data": {
      "text/plain": [
       "4"
      ]
     },
     "execution_count": 51,
     "metadata": {},
     "output_type": "execute_result"
    }
   ],
   "source": [
    "5&4"
   ]
  }
 ],
 "metadata": {
  "kernelspec": {
   "display_name": "Python 3",
   "language": "python",
   "name": "python3"
  },
  "language_info": {
   "codemirror_mode": {
    "name": "ipython",
    "version": 3
   },
   "file_extension": ".py",
   "mimetype": "text/x-python",
   "name": "python",
   "nbconvert_exporter": "python",
   "pygments_lexer": "ipython3",
   "version": "3.6.5"
  }
 },
 "nbformat": 4,
 "nbformat_minor": 2
}
