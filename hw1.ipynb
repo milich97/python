{
 "cells": [
  {
   "cell_type": "markdown",
   "metadata": {},
   "source": [
    "## HW1"
   ]
  },
  {
   "cell_type": "code",
   "execution_count": null,
   "metadata": {},
   "outputs": [],
   "source": [
    "d4 = {x: x ** 2+1 for x in range(44,90,5)}\n",
    "d4"
   ]
  },
  {
   "cell_type": "markdown",
   "metadata": {},
   "source": [
    "## HW2"
   ]
  },
  {
   "cell_type": "code",
   "execution_count": 12,
   "metadata": {},
   "outputs": [],
   "source": [
    "def func(d):\n",
    "    girls=0\n",
    "    boys=0\n",
    "    for i in d.keys():\n",
    "        girls+=d.get(i)[0]\n",
    "        boys+=d.get(i)[1]\n",
    "    print(girls, boys)"
   ]
  },
  {
   "cell_type": "code",
   "execution_count": 15,
   "metadata": {},
   "outputs": [
    {
     "name": "stdout",
     "output_type": "stream",
     "text": [
      "37 85\n"
     ]
    }
   ],
   "source": [
    "d = {'1a':(15,15),'1b':(10,18),'1c':(12,20),'1d':(0,32)}\n",
    "func(d)"
   ]
  },
  {
   "cell_type": "markdown",
   "metadata": {},
   "source": [
    "## HW2.5"
   ]
  },
  {
   "cell_type": "code",
   "execution_count": 8,
   "metadata": {},
   "outputs": [],
   "source": [
    "def func1(d):\n",
    "    count={}\n",
    "    for v in d.values():\n",
    "        for j in v.keys():\n",
    "            if count.get(j) is None: count[j] = v.get(j)\n",
    "            else: count[j] += v.get(j)\n",
    "       \n",
    "    print(count)\n",
    "            "
   ]
  },
  {
   "cell_type": "code",
   "execution_count": 27,
   "metadata": {},
   "outputs": [],
   "source": [
    "def func2(d):\n",
    "    marks={}\n",
    "    for k in d.keys():\n",
    "        sum1=0\n",
    "        weight=0\n",
    "        for i in d.get(k).values(): sum1+=i \n",
    "        for pair in d.get(k).items(): weight+=int(pair[0])*pair[1] \n",
    "        marks[k]=weight/sum1\n",
    "    d1={i: marks[i] for i in d.keys()}\n",
    "    print(d1)"
   ]
  },
  {
   "cell_type": "code",
   "execution_count": 28,
   "metadata": {},
   "outputs": [
    {
     "name": "stdout",
     "output_type": "stream",
     "text": [
      "{'1': 14, '2': 21, '3': 34, '4': 30, '5': 16}\n",
      "{'1a': 2.857142857142857, '1b': 3.0, '1c': 3.4827586206896552, '1d': 3.111111111111111}\n"
     ]
    }
   ],
   "source": [
    "d = {'1a':{'1':5, '2':6, '3': 7, '4':8, '5': 2},\n",
    "     '1b':{'1':4, '2':7, '3': 9, '4':7, '5': 4},\n",
    "     '1c':{'1':2, '2':4, '3': 8, '4':8, '5': 7},\n",
    "     '1d':{'1':3, '2':4, '3': 10, '4':7, '5': 3}}\n",
    "func1(d)\n",
    "func2(d)"
   ]
  },
  {
   "cell_type": "markdown",
   "metadata": {},
   "source": [
    "## HW3"
   ]
  },
  {
   "cell_type": "code",
   "execution_count": 50,
   "metadata": {},
   "outputs": [],
   "source": [
    "def isInCondition(value):\n",
    "    count=0\n",
    "    if bin(value).count('1')%2!=0: return True\n",
    "    return False"
   ]
  },
  {
   "cell_type": "code",
   "execution_count": 72,
   "metadata": {},
   "outputs": [
    {
     "name": "stdout",
     "output_type": "stream",
     "text": [
      "12\n",
      "24\n"
     ]
    }
   ],
   "source": [
    "from random import randint\n",
    "n=randint(40,61)\n",
    "count1=0\n",
    "count2=0\n",
    "for i in range(n):\n",
    "    value = randint(-100,102)\n",
    "    if value % 4==3: count1+=1\n",
    "    if isInCondition(value): count2+=1\n",
    "    \n",
    "print(count1)\n",
    "print(count2)\n"
   ]
  },
  {
   "cell_type": "markdown",
   "metadata": {},
   "source": [
    "## HW4"
   ]
  },
  {
   "cell_type": "code",
   "execution_count": 43,
   "metadata": {},
   "outputs": [
    {
     "name": "stdout",
     "output_type": "stream",
     "text": [
      "NO\n",
      "NO\n",
      "NO\n",
      "NO\n",
      "NO\n",
      "NO\n",
      "NO\n",
      "YES\n",
      "NO\n",
      "NO\n"
     ]
    }
   ],
   "source": [
    "from random import randint\n",
    "n=randint(10,21)\n",
    "l=[]\n",
    "set1=set()\n",
    "for i in range(n):\n",
    "    l.append(randint(0,21))\n",
    "for i in range(n) :\n",
    "    print(\"YES\" if l[i] in set1 else \"NO\")\n",
    "    set1.add(l[i])"
   ]
  }
 ],
 "metadata": {
  "kernelspec": {
   "display_name": "Python 3",
   "language": "python",
   "name": "python3"
  },
  "language_info": {
   "codemirror_mode": {
    "name": "ipython",
    "version": 3
   },
   "file_extension": ".py",
   "mimetype": "text/x-python",
   "name": "python",
   "nbconvert_exporter": "python",
   "pygments_lexer": "ipython3",
   "version": "3.6.5"
  }
 },
 "nbformat": 4,
 "nbformat_minor": 2
}
