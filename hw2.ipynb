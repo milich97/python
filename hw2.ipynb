{
 "cells": [
  {
   "cell_type": "markdown",
   "metadata": {},
   "source": [
    "## HW0"
   ]
  },
  {
   "cell_type": "markdown",
   "metadata": {},
   "source": [
    "$\\cfrac{K}{2}\\frac{\\xi(\\frac{\\pi\\xi}{\\omega}\\cos\\frac{\\pi\\sqrt{(1-\\xi^2)}}{\\omega}\\sinh\\frac{\\pi\\xi}{\\omega}+\\frac{\\pi\\sqrt{(1-\\xi^2)}}{\\omega}\\sin\\frac{\\pi\\sqrt{(1-\\xi^2)}}{\\omega}\\cosh\\frac{\\pi\\xi}{\\omega}+\\cfrac{\\frac{\\pi\\xi}{\\omega}}{\\frac{\\pi\\sqrt{(1-\\xi^2)}}{\\omega}} (\\frac{\\pi\\xi}{\\omega}\\sin\\frac{\\pi\\sqrt{(1-\\xi^2)}}{\\omega}\\cosh\\frac{\\pi\\xi}{\\omega}-\\frac{\\pi\\sqrt{(1-\\xi^2)}}{\\omega}\\cos\\frac{\\pi\\sqrt{(1-\\xi^2)}}{\\omega}\\sinh\\frac{\\pi\\xi}{\\omega}))-\\frac{\\pi}{\\omega}\\cos\\frac{\\pi\\sqrt{(1-\\xi^2)}}{\\omega}\\sinh\\frac{\\pi\\xi}{\\omega}}{\\sin^2\\frac{\\pi\\sqrt{(1-\\xi^2)}}{\\omega}+\\sinh^2\\frac{\\pi\\xi}{\\omega}}-\\cfrac{j\\pi K\\sin\\frac{\\pi\\sqrt{(1-\\xi^2)}}{\\omega}}{4\\sqrt{1-\\xi^2}(\\cosh\\frac{\\pi\\xi}{\\omega}+\\cos\\frac{\\pi\\sqrt{(1-\\xi^2)}}{\\omega})}$"
   ]
  },
  {
   "cell_type": "markdown",
   "metadata": {},
   "source": [
    "## HW1"
   ]
  },
  {
   "cell_type": "code",
   "execution_count": 34,
   "metadata": {},
   "outputs": [],
   "source": [
    "def f(start,finish):\n",
    "    s=set('13579')\n",
    "    for value in range(start,finish+1):\n",
    "        even=True\n",
    "        for e in s:\n",
    "                if str(value).count(e) !=0 :\n",
    "                    even=False\n",
    "        if even: print(value)"
   ]
  },
  {
   "cell_type": "code",
   "execution_count": 35,
   "metadata": {},
   "outputs": [
    {
     "name": "stdout",
     "output_type": "stream",
     "text": [
      "200\n",
      "202\n",
      "204\n",
      "206\n",
      "208\n",
      "220\n",
      "222\n",
      "224\n",
      "226\n",
      "228\n",
      "240\n",
      "242\n",
      "244\n",
      "246\n",
      "248\n",
      "260\n",
      "262\n",
      "264\n",
      "266\n",
      "268\n",
      "280\n",
      "282\n",
      "284\n",
      "286\n",
      "288\n",
      "400\n",
      "402\n",
      "404\n",
      "406\n",
      "408\n",
      "420\n",
      "422\n",
      "424\n",
      "426\n",
      "428\n",
      "440\n",
      "442\n",
      "444\n",
      "446\n",
      "448\n",
      "460\n",
      "462\n",
      "464\n",
      "466\n",
      "468\n",
      "480\n",
      "482\n",
      "484\n",
      "486\n",
      "488\n"
     ]
    }
   ],
   "source": [
    "f(100,500)"
   ]
  },
  {
   "cell_type": "markdown",
   "metadata": {},
   "source": [
    "## HW2"
   ]
  },
  {
   "cell_type": "code",
   "execution_count": 50,
   "metadata": {},
   "outputs": [],
   "source": [
    "def pascal_triangle(n,step=1):\n",
    "    if n == 1: return [[1]]\n",
    "\n",
    "    triangle = [[1],[1, 1]]\n",
    "    row = [1,1] \n",
    "\n",
    "    for i in range(2, n):\n",
    "        row = [1] + [sum(column) for column in zip(row[1:], row)] + [1]\n",
    "        triangle.append(row)\n",
    "\n",
    "    for i in range(0,n,step):\n",
    "        print(triangle[i])"
   ]
  },
  {
   "cell_type": "code",
   "execution_count": 57,
   "metadata": {},
   "outputs": [
    {
     "name": "stdout",
     "output_type": "stream",
     "text": [
      "[1]\n",
      "[1, 3, 3, 1]\n",
      "[1, 6, 15, 20, 15, 6, 1]\n",
      "[1, 9, 36, 84, 126, 126, 84, 36, 9, 1]\n"
     ]
    }
   ],
   "source": [
    "pascal_triangle(10, step=3)"
   ]
  },
  {
   "cell_type": "markdown",
   "metadata": {},
   "source": [
    "## HW3"
   ]
  },
  {
   "cell_type": "code",
   "execution_count": 78,
   "metadata": {},
   "outputs": [],
   "source": [
    "def my_func(*args):\n",
    "    mas=[]\n",
    "    k=1\n",
    "    for i in range(len(args)):\n",
    "        if i==0: \n",
    "            mas.append([args[i]])\n",
    "        else:\n",
    "            b = True\n",
    "            for j in range(k):\n",
    "                if type(args[i]) == type(mas[j][0]):\n",
    "                    mas[j].append(args[i])\n",
    "                    b = False\n",
    "            if b:\n",
    "                mas.append([args[i]])\n",
    "                k += 1\n",
    "    for i in range(len(mas)):\n",
    "        print(type(mas[i][0]), ' ', len(mas[i]))\n"
   ]
  },
  {
   "cell_type": "code",
   "execution_count": 79,
   "metadata": {},
   "outputs": [
    {
     "name": "stdout",
     "output_type": "stream",
     "text": [
      "<class 'float'>   1\n",
      "<class 'int'>   4\n",
      "<class 'str'>   1\n",
      "<class 'list'>   1\n"
     ]
    }
   ],
   "source": [
    "my_func(2.1,2,3,4,5, 'c', [1,2])"
   ]
  },
  {
   "cell_type": "markdown",
   "metadata": {},
   "source": [
    "## HW4"
   ]
  },
  {
   "cell_type": "markdown",
   "metadata": {},
   "source": [
    "$\\sin x = \\sum\\limits_0^\\infty (-1)^n\\frac{x^{2n+1}}{(2n+1)!}$\n",
    "\n",
    "$\\cos x = \\sum\\limits_0^\\infty (-1)^n\\frac{x^{2n}}{(2n)!}$\n",
    "\n",
    "$e^x = \\sum\\limits_0^\\infty \\frac{x^{n}}{n!}$\n",
    "\n",
    "$n(x^{\\frac{1}{n}}-1)=n(e^{\\frac{1}{n}\\ln x}-1)\\sim n \\frac{1}{n}\\ln x=\\ln x$"
   ]
  },
  {
   "cell_type": "code",
   "execution_count": 12,
   "metadata": {},
   "outputs": [],
   "source": [
    "import math\n",
    "def my_sin(angle):\n",
    "    number=math.radians(angle)\n",
    "    return number-number**3/6+number**5/120-number**7/(720*7)\n",
    "\n",
    "def my_cos(angle):\n",
    "    number=math.radians(angle)\n",
    "    return 1-number**2/2+number**4/24-number**6/(720)\n",
    "\n",
    "\n",
    "def my_exp(x):\n",
    "    n=50\n",
    "    ans=0\n",
    "    for i in range(n):\n",
    "        ans+=x**i/math.factorial(i)\n",
    "    return ans\n",
    "\n",
    "def my_ln(x):\n",
    "    n=10000000\n",
    "    return n*(x**(1/n)-1)\n",
    "\n",
    "\n",
    "    "
   ]
  },
  {
   "cell_type": "code",
   "execution_count": 13,
   "metadata": {},
   "outputs": [
    {
     "name": "stdout",
     "output_type": "stream",
     "text": [
      "0.00015689860050127624\n",
      "0.000894522998474793\n",
      "0.0\n",
      "1.1003925468600073e-06\n"
     ]
    }
   ],
   "source": [
    "import math\n",
    "print(abs(my_sin(90)-math.sin(math.radians(90))))\n",
    "print(abs(my_cos(90)-math.cos(math.radians(90))))\n",
    "print(abs(my_exp(9)-math.exp(9)))\n",
    "print(abs(my_ln(109)-math.log(109)))\n"
   ]
  },
  {
   "cell_type": "code",
   "execution_count": null,
   "metadata": {},
   "outputs": [],
   "source": []
  }
 ],
 "metadata": {
  "kernelspec": {
   "display_name": "Python 3",
   "language": "python",
   "name": "python3"
  },
  "language_info": {
   "codemirror_mode": {
    "name": "ipython",
    "version": 3
   },
   "file_extension": ".py",
   "mimetype": "text/x-python",
   "name": "python",
   "nbconvert_exporter": "python",
   "pygments_lexer": "ipython3",
   "version": "3.6.5"
  }
 },
 "nbformat": 4,
 "nbformat_minor": 2
}
