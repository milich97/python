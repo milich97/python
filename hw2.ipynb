{
 "cells": [
  {
   "cell_type": "markdown",
   "metadata": {},
   "source": [
    "## HW0"
   ]
  },
  {
   "cell_type": "markdown",
   "metadata": {},
   "source": [
    "$\\cfrac{K}{2}\\frac{\\xi(\\frac{\\pi\\xi}{\\omega}\\cos\\frac{\\pi\\sqrt{(1-\\xi^2)}}{\\omega}\\sinh\\frac{\\pi\\xi}{\\omega}+\\frac{\\pi\\sqrt{(1-\\xi^2)}}{\\omega}\\sin\\frac{\\pi\\sqrt{(1-\\xi^2)}}{\\omega}\\cosh\\frac{\\pi\\xi}{\\omega}+\\cfrac{\\frac{\\pi\\xi}{\\omega}}{\\frac{\\pi\\sqrt{(1-\\xi^2)}}{\\omega}} (\\frac{\\pi\\xi}{\\omega}\\sin\\frac{\\pi\\sqrt{(1-\\xi^2)}}{\\omega}\\cosh\\frac{\\pi\\xi}{\\omega}-\\frac{\\pi\\sqrt{(1-\\xi^2)}}{\\omega}\\cos\\frac{\\pi\\sqrt{(1-\\xi^2)}}{\\omega}\\sinh\\frac{\\pi\\xi}{\\omega}))-\\frac{\\pi}{\\omega}\\cos\\frac{\\pi\\sqrt{(1-\\xi^2)}}{\\omega}\\sinh\\frac{\\pi\\xi}{\\omega}}{\\sin^2\\frac{\\pi\\sqrt{(1-\\xi^2)}}{\\omega}+\\sinh^2\\frac{\\pi\\xi}{\\omega}}-\\cfrac{j\\pi K\\sin\\frac{\\pi\\sqrt{(1-\\xi^2)}}{\\omega}}{4\\sqrt{1-\\xi^2}(\\cosh\\frac{\\pi\\xi}{\\omega}+\\cos\\frac{\\pi\\sqrt{(1-\\xi^2)}}{\\omega})}$"
   ]
  },
  {
   "cell_type": "markdown",
   "metadata": {},
   "source": [
    "## HW1"
   ]
  },
  {
   "cell_type": "code",
   "execution_count": 15,
   "metadata": {},
   "outputs": [],
   "source": [
    "def f(start=1000,finish=5000):\n",
    "    s=set('13579')\n",
    "    for value in range(start,finish+1):\n",
    "        even=True\n",
    "        value=str(value)\n",
    "        for pos in range(0,len(value)):\n",
    "            if value[pos] in s: \n",
    "                even=False\n",
    "                break\n",
    "        if even: print(value)"
   ]
  },
  {
   "cell_type": "code",
   "execution_count": 16,
   "metadata": {},
   "outputs": [
    {
     "name": "stdout",
     "output_type": "stream",
     "text": [
      "20\n",
      "22\n",
      "24\n",
      "26\n",
      "28\n",
      "40\n",
      "42\n",
      "44\n",
      "46\n",
      "48\n"
     ]
    }
   ],
   "source": [
    "f(10,50)"
   ]
  },
  {
   "cell_type": "markdown",
   "metadata": {},
   "source": [
    "## HW2"
   ]
  },
  {
   "cell_type": "code",
   "execution_count": 30,
   "metadata": {},
   "outputs": [],
   "source": [
    "def pascal_triangle(n,*,step=1):\n",
    "    if n == 1: return [[1]]\n",
    "    \n",
    "    triangle = [[1],[1, 1]]\n",
    "    row = [1,1] \n",
    "    print(triangle[0])\n",
    "    if step==1: print(triangle[1])\n",
    "\n",
    "    for i in range(2, n):\n",
    "        row = [1] + [sum(column) for column in zip(row[1:], row)] + [1]\n",
    "        triangle.append(row)\n",
    "        if i%step==0: print(triangle[i])\n"
   ]
  },
  {
   "cell_type": "code",
   "execution_count": 31,
   "metadata": {},
   "outputs": [
    {
     "ename": "TypeError",
     "evalue": "pascal_triangle() takes 1 positional argument but 2 were given",
     "output_type": "error",
     "traceback": [
      "\u001b[1;31m---------------------------------------------------------------------------\u001b[0m",
      "\u001b[1;31mTypeError\u001b[0m                                 Traceback (most recent call last)",
      "\u001b[1;32m<ipython-input-31-03921756ac04>\u001b[0m in \u001b[0;36m<module>\u001b[1;34m()\u001b[0m\n\u001b[1;32m----> 1\u001b[1;33m \u001b[0mpascal_triangle\u001b[0m\u001b[1;33m(\u001b[0m\u001b[1;36m10\u001b[0m\u001b[1;33m,\u001b[0m \u001b[1;36m3\u001b[0m\u001b[1;33m)\u001b[0m\u001b[1;33m\u001b[0m\u001b[0m\n\u001b[0m",
      "\u001b[1;31mTypeError\u001b[0m: pascal_triangle() takes 1 positional argument but 2 were given"
     ]
    }
   ],
   "source": [
    "pascal_triangle(10, 3)"
   ]
  },
  {
   "cell_type": "markdown",
   "metadata": {},
   "source": [
    "## HW3"
   ]
  },
  {
   "cell_type": "code",
   "execution_count": 9,
   "metadata": {},
   "outputs": [],
   "source": [
    "def my_func(*args):\n",
    "    dict3={}\n",
    "    k=1\n",
    "    for i in args:\n",
    "         dict3[type(i)] = dict3.get(type(i), 0) + 1\n",
    "        \n",
    "    return dict3\n"
   ]
  },
  {
   "cell_type": "code",
   "execution_count": 10,
   "metadata": {},
   "outputs": [
    {
     "data": {
      "text/plain": [
       "{float: 1, int: 4, str: 1, list: 1}"
      ]
     },
     "execution_count": 10,
     "metadata": {},
     "output_type": "execute_result"
    }
   ],
   "source": [
    "my_func(2.1,2,3,4,5, 'c', [1,2])"
   ]
  },
  {
   "cell_type": "markdown",
   "metadata": {},
   "source": [
    "## HW4"
   ]
  },
  {
   "cell_type": "markdown",
   "metadata": {},
   "source": [
    "$\\sin x = \\sum\\limits_0^\\infty (-1)^n\\frac{x^{2n+1}}{(2n+1)!}$\n",
    "\n",
    "$\\cos x = \\sum\\limits_0^\\infty (-1)^n\\frac{x^{2n}}{(2n)!}$\n",
    "\n",
    "$e^x = \\sum\\limits_0^\\infty \\frac{x^{n}}{n!}$\n",
    "\n",
    "$\\ln x=\\ln(\\frac{x}{e^s}e^s)=s+\\ln(\\frac{x}{e^s})$"
   ]
  },
  {
   "cell_type": "code",
   "execution_count": 58,
   "metadata": {},
   "outputs": [],
   "source": [
    "import math\n",
    "def my_sin(angle):\n",
    "    N=50\n",
    "    ans=0\n",
    "    number=math.radians(angle)\n",
    "    for n in range(N):\n",
    "        ans+=(-1)**n*number**(2*n+1)/math.factorial(2*n+1)\n",
    "    return ans\n",
    "    \n",
    "    \n",
    "\n",
    "def my_cos(angle):\n",
    "    N=50\n",
    "    ans=0\n",
    "    number=math.radians(angle)\n",
    "    for n in range(N):\n",
    "        ans+=(-1)**n*number**(2*n)/math.factorial(2*n)\n",
    "    return ans\n",
    "\n",
    "\n",
    "def my_exp(x):\n",
    "    n=50\n",
    "    ans=0\n",
    "    for i in range(n):\n",
    "        ans+=x**i/math.factorial(i)\n",
    "    return ans\n",
    "\n",
    "def my_ln(x):\n",
    "    if x>0:\n",
    "        y=x\n",
    "        s=0\n",
    "        while y>2:\n",
    "            y/=my_exp(1)\n",
    "            s+=1\n",
    "        ans=0\n",
    "        N=500\n",
    "        for n in range(1,N):\n",
    "            ans-=(-1)**n*(y-1)**n/n\n",
    "        return ans+s\n",
    "    return None\n",
    "\n",
    "    "
   ]
  },
  {
   "cell_type": "code",
   "execution_count": 59,
   "metadata": {},
   "outputs": [
    {
     "name": "stdout",
     "output_type": "stream",
     "text": [
      "2.220446049250313e-16\n",
      "1.8692872613519915e-17\n",
      "0.0\n",
      "8.881784197001252e-16\n"
     ]
    }
   ],
   "source": [
    "import math\n",
    "print(abs(my_sin(90)-math.sin(math.radians(90))))\n",
    "print(abs(my_cos(90)-math.cos(math.radians(90))))\n",
    "print(abs(my_exp(9)-math.exp(9)))\n",
    "print(abs(my_ln(5)-math.log(5)))\n"
   ]
  },
  {
   "cell_type": "code",
   "execution_count": null,
   "metadata": {},
   "outputs": [],
   "source": []
  }
 ],
 "metadata": {
  "kernelspec": {
   "display_name": "Python 3",
   "language": "python",
   "name": "python3"
  },
  "language_info": {
   "codemirror_mode": {
    "name": "ipython",
    "version": 3
   },
   "file_extension": ".py",
   "mimetype": "text/x-python",
   "name": "python",
   "nbconvert_exporter": "python",
   "pygments_lexer": "ipython3",
   "version": "3.6.5"
  }
 },
 "nbformat": 4,
 "nbformat_minor": 2
}
